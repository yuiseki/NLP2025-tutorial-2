{
 "cells": [
  {
   "cell_type": "code",
   "execution_count": 1,
   "metadata": {},
   "outputs": [],
   "source": [
    "from IPython.display import Markdown, display\n",
    "def print_large(text):\n",
    "    display(Markdown(f\"### {text}\"))"
   ]
  },
  {
   "cell_type": "code",
   "execution_count": 2,
   "metadata": {},
   "outputs": [
    {
     "data": {
      "text/plain": [
       "<duckdb.duckdb.DuckDBPyConnection at 0x7f992df5b1b0>"
      ]
     },
     "execution_count": 2,
     "metadata": {},
     "output_type": "execute_result"
    }
   ],
   "source": [
    "import duckdb\n",
    "\n",
    "conn = duckdb.connect()\n",
    "\n",
    "conn.execute(\"\"\"\n",
    "INSTALL httpfs;\n",
    "INSTALL json;\n",
    "INSTALL spatial;\n",
    "\"\"\")\n",
    "conn.execute(f\"\"\"\n",
    "LOAD httpfs;\n",
    "LOAD json;\n",
    "LOAD spatial;\n",
    "\"\"\")"
   ]
  },
  {
   "cell_type": "code",
   "execution_count": 3,
   "metadata": {},
   "outputs": [
    {
     "data": {
      "application/vnd.jupyter.widget-view+json": {
       "model_id": "02d21975189c40358e939e8fad662bd7",
       "version_major": 2,
       "version_minor": 0
      },
      "text/plain": [
       "FloatProgress(value=0.0, layout=Layout(width='auto'), style=ProgressStyle(bar_color='black'))"
      ]
     },
     "metadata": {},
     "output_type": "display_data"
    },
    {
     "data": {
      "text/plain": [
       "<duckdb.duckdb.DuckDBPyConnection at 0x7f992df5b1b0>"
      ]
     },
     "execution_count": 3,
     "metadata": {},
     "output_type": "execute_result"
    }
   ],
   "source": [
    "admin_geojson_url = \"https://github.com/nvkelso/natural-earth-vector/raw/master/geojson/ne_110m_admin_0_countries.geojson\"\n",
    "conn.execute(f\"CREATE TABLE countries AS SELECT * FROM ST_Read('{admin_geojson_url}')\")"
   ]
  },
  {
   "cell_type": "code",
   "execution_count": 4,
   "metadata": {},
   "outputs": [
    {
     "name": "stdout",
     "output_type": "stream",
     "text": [
      "Table: countries\n",
      "  Field: featurecla, VARCHAR\n",
      "  Field: scalerank, INTEGER\n",
      "  Field: LABELRANK, INTEGER\n",
      "  Field: SOVEREIGNT, VARCHAR\n",
      "  Field: SOV_A3, VARCHAR\n",
      "  Field: ADM0_DIF, INTEGER\n",
      "  Field: LEVEL, INTEGER\n",
      "  Field: TYPE, VARCHAR\n",
      "  Field: TLC, VARCHAR\n",
      "  Field: ADMIN, VARCHAR\n",
      "  Field: ADM0_A3, VARCHAR\n",
      "  Field: GEOU_DIF, INTEGER\n",
      "  Field: GEOUNIT, VARCHAR\n",
      "  Field: GU_A3, VARCHAR\n",
      "  Field: SU_DIF, INTEGER\n",
      "  Field: SUBUNIT, VARCHAR\n",
      "  Field: SU_A3, VARCHAR\n",
      "  Field: BRK_DIFF, INTEGER\n",
      "  Field: NAME, VARCHAR\n",
      "  Field: NAME_LONG, VARCHAR\n",
      "  Field: BRK_A3, VARCHAR\n",
      "  Field: BRK_NAME, VARCHAR\n",
      "  Field: BRK_GROUP, VARCHAR\n",
      "  Field: ABBREV, VARCHAR\n",
      "  Field: POSTAL, VARCHAR\n",
      "  Field: FORMAL_EN, VARCHAR\n",
      "  Field: FORMAL_FR, VARCHAR\n",
      "  Field: NAME_CIAWF, VARCHAR\n",
      "  Field: NOTE_ADM0, VARCHAR\n",
      "  Field: NOTE_BRK, VARCHAR\n",
      "  Field: NAME_SORT, VARCHAR\n",
      "  Field: NAME_ALT, VARCHAR\n",
      "  Field: MAPCOLOR7, INTEGER\n",
      "  Field: MAPCOLOR8, INTEGER\n",
      "  Field: MAPCOLOR9, INTEGER\n",
      "  Field: MAPCOLOR13, INTEGER\n",
      "  Field: POP_EST, DOUBLE\n",
      "  Field: POP_RANK, INTEGER\n",
      "  Field: POP_YEAR, INTEGER\n",
      "  Field: GDP_MD, INTEGER\n",
      "  Field: GDP_YEAR, INTEGER\n",
      "  Field: ECONOMY, VARCHAR\n",
      "  Field: INCOME_GRP, VARCHAR\n",
      "  Field: FIPS_10, VARCHAR\n",
      "  Field: ISO_A2, VARCHAR\n",
      "  Field: ISO_A2_EH, VARCHAR\n",
      "  Field: ISO_A3, VARCHAR\n",
      "  Field: ISO_A3_EH, VARCHAR\n",
      "  Field: ISO_N3, VARCHAR\n",
      "  Field: ISO_N3_EH, VARCHAR\n",
      "  Field: UN_A3, VARCHAR\n",
      "  Field: WB_A2, VARCHAR\n",
      "  Field: WB_A3, VARCHAR\n",
      "  Field: WOE_ID, INTEGER\n",
      "  Field: WOE_ID_EH, INTEGER\n",
      "  Field: WOE_NOTE, VARCHAR\n",
      "  Field: ADM0_ISO, VARCHAR\n",
      "  Field: ADM0_DIFF, VARCHAR\n",
      "  Field: ADM0_TLC, VARCHAR\n",
      "  Field: ADM0_A3_US, VARCHAR\n",
      "  Field: ADM0_A3_FR, VARCHAR\n",
      "  Field: ADM0_A3_RU, VARCHAR\n",
      "  Field: ADM0_A3_ES, VARCHAR\n",
      "  Field: ADM0_A3_CN, VARCHAR\n",
      "  Field: ADM0_A3_TW, VARCHAR\n",
      "  Field: ADM0_A3_IN, VARCHAR\n",
      "  Field: ADM0_A3_NP, VARCHAR\n",
      "  Field: ADM0_A3_PK, VARCHAR\n",
      "  Field: ADM0_A3_DE, VARCHAR\n",
      "  Field: ADM0_A3_GB, VARCHAR\n",
      "  Field: ADM0_A3_BR, VARCHAR\n",
      "  Field: ADM0_A3_IL, VARCHAR\n",
      "  Field: ADM0_A3_PS, VARCHAR\n",
      "  Field: ADM0_A3_SA, VARCHAR\n",
      "  Field: ADM0_A3_EG, VARCHAR\n",
      "  Field: ADM0_A3_MA, VARCHAR\n",
      "  Field: ADM0_A3_PT, VARCHAR\n",
      "  Field: ADM0_A3_AR, VARCHAR\n",
      "  Field: ADM0_A3_JP, VARCHAR\n",
      "  Field: ADM0_A3_KO, VARCHAR\n",
      "  Field: ADM0_A3_VN, VARCHAR\n",
      "  Field: ADM0_A3_TR, VARCHAR\n",
      "  Field: ADM0_A3_ID, VARCHAR\n",
      "  Field: ADM0_A3_PL, VARCHAR\n",
      "  Field: ADM0_A3_GR, VARCHAR\n",
      "  Field: ADM0_A3_IT, VARCHAR\n",
      "  Field: ADM0_A3_NL, VARCHAR\n",
      "  Field: ADM0_A3_SE, VARCHAR\n",
      "  Field: ADM0_A3_BD, VARCHAR\n",
      "  Field: ADM0_A3_UA, VARCHAR\n",
      "  Field: ADM0_A3_UN, INTEGER\n",
      "  Field: ADM0_A3_WB, INTEGER\n",
      "  Field: CONTINENT, VARCHAR\n",
      "  Field: REGION_UN, VARCHAR\n",
      "  Field: SUBREGION, VARCHAR\n",
      "  Field: REGION_WB, VARCHAR\n",
      "  Field: NAME_LEN, INTEGER\n",
      "  Field: LONG_LEN, INTEGER\n",
      "  Field: ABBREV_LEN, INTEGER\n",
      "  Field: TINY, INTEGER\n",
      "  Field: HOMEPART, INTEGER\n",
      "  Field: MIN_ZOOM, DOUBLE\n",
      "  Field: MIN_LABEL, DOUBLE\n",
      "  Field: MAX_LABEL, DOUBLE\n",
      "  Field: LABEL_X, DOUBLE\n",
      "  Field: LABEL_Y, DOUBLE\n",
      "  Field: NE_ID, INTEGER\n",
      "  Field: WIKIDATAID, VARCHAR\n",
      "  Field: NAME_AR, VARCHAR\n",
      "  Field: NAME_BN, VARCHAR\n",
      "  Field: NAME_DE, VARCHAR\n",
      "  Field: NAME_EN, VARCHAR\n",
      "  Field: NAME_ES, VARCHAR\n",
      "  Field: NAME_FA, VARCHAR\n",
      "  Field: NAME_FR, VARCHAR\n",
      "  Field: NAME_EL, VARCHAR\n",
      "  Field: NAME_HE, VARCHAR\n",
      "  Field: NAME_HI, VARCHAR\n",
      "  Field: NAME_HU, VARCHAR\n",
      "  Field: NAME_ID, VARCHAR\n",
      "  Field: NAME_IT, VARCHAR\n",
      "  Field: NAME_JA, VARCHAR\n",
      "  Field: NAME_KO, VARCHAR\n",
      "  Field: NAME_NL, VARCHAR\n",
      "  Field: NAME_PL, VARCHAR\n",
      "  Field: NAME_PT, VARCHAR\n",
      "  Field: NAME_RU, VARCHAR\n",
      "  Field: NAME_SV, VARCHAR\n",
      "  Field: NAME_TR, VARCHAR\n",
      "  Field: NAME_UK, VARCHAR\n",
      "  Field: NAME_UR, VARCHAR\n",
      "  Field: NAME_VI, VARCHAR\n",
      "  Field: NAME_ZH, VARCHAR\n",
      "  Field: NAME_ZHT, VARCHAR\n",
      "  Field: FCLASS_ISO, VARCHAR\n",
      "  Field: TLC_DIFF, VARCHAR\n",
      "  Field: FCLASS_TLC, VARCHAR\n",
      "  Field: FCLASS_US, VARCHAR\n",
      "  Field: FCLASS_FR, VARCHAR\n",
      "  Field: FCLASS_RU, VARCHAR\n",
      "  Field: FCLASS_ES, VARCHAR\n",
      "  Field: FCLASS_CN, VARCHAR\n",
      "  Field: FCLASS_TW, VARCHAR\n",
      "  Field: FCLASS_IN, VARCHAR\n",
      "  Field: FCLASS_NP, VARCHAR\n",
      "  Field: FCLASS_PK, VARCHAR\n",
      "  Field: FCLASS_DE, VARCHAR\n",
      "  Field: FCLASS_GB, VARCHAR\n",
      "  Field: FCLASS_BR, VARCHAR\n",
      "  Field: FCLASS_IL, VARCHAR\n",
      "  Field: FCLASS_PS, VARCHAR\n",
      "  Field: FCLASS_SA, VARCHAR\n",
      "  Field: FCLASS_EG, VARCHAR\n",
      "  Field: FCLASS_MA, VARCHAR\n",
      "  Field: FCLASS_PT, VARCHAR\n",
      "  Field: FCLASS_AR, VARCHAR\n",
      "  Field: FCLASS_JP, VARCHAR\n",
      "  Field: FCLASS_KO, VARCHAR\n",
      "  Field: FCLASS_VN, VARCHAR\n",
      "  Field: FCLASS_TR, VARCHAR\n",
      "  Field: FCLASS_ID, VARCHAR\n",
      "  Field: FCLASS_PL, VARCHAR\n",
      "  Field: FCLASS_GR, VARCHAR\n",
      "  Field: FCLASS_IT, VARCHAR\n",
      "  Field: FCLASS_NL, VARCHAR\n",
      "  Field: FCLASS_SE, VARCHAR\n",
      "  Field: FCLASS_BD, VARCHAR\n",
      "  Field: FCLASS_UA, VARCHAR\n",
      "  Field: geom, GEOMETRY\n",
      "\n"
     ]
    }
   ],
   "source": [
    "summary_of_tables = \"\"\n",
    "\n",
    "# SHOWによってテーブル一覧を取得\n",
    "show_result = conn.execute(\"SHOW\").fetchall()\n",
    "tables = [row[2] for row in show_result]\n",
    "\n",
    "for table in tables:\n",
    "    summary_of_tables += f\"Table: {table}\\n\"\n",
    "    # DESCRIBE TABLEの結果を文字列に変換\n",
    "    describe_result = conn.execute(f\"DESCRIBE TABLE {table}\").fetchall()\n",
    "    for row in describe_result:\n",
    "        field_name = row[0]\n",
    "        field_type = row[1]\n",
    "        summary_of_tables += f\"  Field: {field_name}, {field_type}\\n\"\n",
    "print(summary_of_tables)"
   ]
  },
  {
   "cell_type": "code",
   "execution_count": 5,
   "metadata": {},
   "outputs": [],
   "source": [
    "input_text = \"日本よりも広い国は世界で何ヶ国ありますか？\""
   ]
  },
  {
   "cell_type": "code",
   "execution_count": null,
   "metadata": {},
   "outputs": [
    {
     "name": "stdout",
     "output_type": "stream",
     "text": [
      "SELECT\n",
      "  COUNT(*)\n",
      "FROM countries\n",
      "WHERE\n",
      "  ST_Area(geom) > (\n",
      "    SELECT\n",
      "      ST_Area(geom)\n",
      "    FROM countries\n",
      "    WHERE\n",
      "      NAME = 'Japan'\n",
      "  );\n"
     ]
    }
   ],
   "source": [
    "from langchain_core.prompts import ChatPromptTemplate\n",
    "from langchain_google_genai import ChatGoogleGenerativeAI\n",
    "\n",
    "# モデルの準備\n",
    "model = ChatGoogleGenerativeAI(model=\"gemini-exp-1206\", temperature=0)\n",
    "\n",
    "# プロンプトの準備\n",
    "template = \"\"\"You are an expert of PostgreSQL and PostGIS.\n",
    "You output the best PostgreSQL query based on given table schema and input text.\n",
    "\n",
    "You will always reply according to the following rules:\n",
    "- Output valid PostgreSQL query.\n",
    "- The query MUST be line delimited and surrounded by just three backquote to indicate that it is a code block.\n",
    "\n",
    "** Table Schema: **\n",
    "{table_schema}\n",
    "\n",
    "User Input:\n",
    "{input}\n",
    "\"\"\"\n",
    "prompt = ChatPromptTemplate.from_template(template)\n",
    "\n",
    "chain = prompt | model\n",
    "\n",
    "res = chain.invoke({\"input\": input_text, \"table_schema\": summary_of_tables})\n",
    "result = res.content.strip()\n",
    "\n",
    "import re\n",
    "match = re.search(r\"```[^\\n]*\\n(.*?)```\", result, re.DOTALL)\n",
    "query = match.group(1).strip()\n",
    "print(query)"
   ]
  },
  {
   "cell_type": "code",
   "execution_count": 7,
   "metadata": {},
   "outputs": [
    {
     "data": {
      "text/plain": [
       "[(59,)]"
      ]
     },
     "execution_count": 7,
     "metadata": {},
     "output_type": "execute_result"
    }
   ],
   "source": [
    "duckdb_result = conn.execute(query).fetchall()\n",
    "duckdb_result"
   ]
  },
  {
   "cell_type": "code",
   "execution_count": 8,
   "metadata": {},
   "outputs": [],
   "source": [
    "prompt = (\n",
    "    \"Given the following user question, corresponding SQL query, \"\n",
    "    \"and SQL result, answer the user question.\\n\\n\"\n",
    "    f'Question: {input_text}\\n'\n",
    "    f'SQL Query: {query}\\n'\n",
    "    f'SQL Result: {duckdb_result}\\n'\n",
    ")"
   ]
  },
  {
   "cell_type": "code",
   "execution_count": 9,
   "metadata": {},
   "outputs": [
    {
     "data": {
      "text/markdown": [
       "### 日本よりも広い国は世界で59ヶ国あります。"
      ],
      "text/plain": [
       "<IPython.core.display.Markdown object>"
      ]
     },
     "metadata": {},
     "output_type": "display_data"
    }
   ],
   "source": [
    "answer = model.invoke(prompt).content.strip()\n",
    "print_large(answer)"
   ]
  }
 ],
 "metadata": {
  "kernelspec": {
   "display_name": "nlp2025",
   "language": "python",
   "name": "python3"
  },
  "language_info": {
   "codemirror_mode": {
    "name": "ipython",
    "version": 3
   },
   "file_extension": ".py",
   "mimetype": "text/x-python",
   "name": "python",
   "nbconvert_exporter": "python",
   "pygments_lexer": "ipython3",
   "version": "3.10.15"
  }
 },
 "nbformat": 4,
 "nbformat_minor": 2
}
