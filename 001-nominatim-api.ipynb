{
 "cells": [
  {
   "cell_type": "markdown",
   "metadata": {},
   "source": [
    "# OpenStreetMap Nominatim API\n",
    "\n",
    "## Nominatim API の概要\n",
    "\n",
    "- Nominatim API とは、 OpenStreetMap のデータを利用して、地名から緯度経度を取得することができる API です\n",
    "  - https://nominatim.org/\n",
    "  - https://nominatim.openstreetmap.org/ui/search.html\n",
    "- 他にも様々な機能がありますが、詳細は公式ドキュメントを参照してください\n",
    "  - https://nominatim.org/release-docs/latest/\n",
    "  - https://nominatim.org/release-docs/latest/api/Overview/\n",
    "  - https://nominatim.org/release-docs/latest/api/Search/\n",
    "\n",
    "## 注意\n",
    "\n",
    "- このノートブックでは、 nominatim.openstreetmap.org で運営されている Nominatim API を呼び出しています\n",
    "  - 以下の利用ポリシーを必ず読んで、従ってください\n",
    "    - https://operations.osmfoundation.org/policies/nominatim/\n",
    "- nominatim.openstreetmap.org で運営されている Nominatim API は、 **一秒間に最大で一つのリクエスト** に制限されています\n",
    "  - この頻度を超えるリクエストが必要な場合は、自分で Nominatim API サーバーを立てることができます\n",
    "  - インストール方法は公式ドキュメントを参照してください\n",
    "    - https://nominatim.org/release-docs/latest/admin/Installation/\n"
   ]
  },
  {
   "cell_type": "markdown",
   "metadata": {},
   "source": [
    "## このノートブックの流れ\n",
    "\n",
    "- 生成AIに、自然言語から地名のみを出力させる\n",
    "- 出力された地名に基づいて Nominatim API を呼び出して GPS 座標を取得する\n",
    "- 取得した GPS 座標を地図上に表示する"
   ]
  },
  {
   "cell_type": "markdown",
   "metadata": {},
   "source": [
    "## 前準備"
   ]
  },
  {
   "cell_type": "markdown",
   "metadata": {},
   "source": [
    "### 環境変数の読み込み"
   ]
  },
  {
   "cell_type": "code",
   "execution_count": 1,
   "metadata": {},
   "outputs": [
    {
     "data": {
      "text/plain": [
       "True"
      ]
     },
     "execution_count": 1,
     "metadata": {},
     "output_type": "execute_result"
    }
   ],
   "source": [
    "from dotenv import load_dotenv\n",
    "load_dotenv()"
   ]
  },
  {
   "cell_type": "markdown",
   "metadata": {},
   "source": [
    "### 出力を大きく表示する関数の用意"
   ]
  },
  {
   "cell_type": "code",
   "execution_count": 2,
   "metadata": {},
   "outputs": [],
   "source": [
    "from IPython.display import Markdown, display\n",
    "def print_large(text):\n",
    "    display(Markdown(f\"### {text}\"))"
   ]
  },
  {
   "cell_type": "markdown",
   "metadata": {},
   "source": [
    "## 対象となる自然言語"
   ]
  },
  {
   "cell_type": "code",
   "execution_count": 3,
   "metadata": {},
   "outputs": [
    {
     "data": {
      "text/markdown": [
       "### 出島メッセ長崎に行きたいです。"
      ],
      "text/plain": [
       "<IPython.core.display.Markdown object>"
      ]
     },
     "metadata": {},
     "output_type": "display_data"
    }
   ],
   "source": [
    "input_text = \"出島メッセ長崎に行きたいです。\"\n",
    "print_large(input_text)"
   ]
  },
  {
   "cell_type": "markdown",
   "metadata": {},
   "source": [
    "## 生成 AI に自然言語から地名のみを出力させる"
   ]
  },
  {
   "cell_type": "code",
   "execution_count": 4,
   "metadata": {},
   "outputs": [
    {
     "data": {
      "text/markdown": [
       "### 出島メッセ長崎"
      ],
      "text/plain": [
       "<IPython.core.display.Markdown object>"
      ]
     },
     "metadata": {},
     "output_type": "display_data"
    }
   ],
   "source": [
    "from langchain_core.prompts import ChatPromptTemplate\n",
    "from langchain_google_genai import ChatGoogleGenerativeAI\n",
    "\n",
    "# モデルの準備\n",
    "model = ChatGoogleGenerativeAI(model=\"gemini-exp-1206\", temperature=0)\n",
    "\n",
    "# プロンプトの準備\n",
    "template = \"\"\"Extract only the first place name from the user input.\n",
    "Output only the place name.\n",
    "\n",
    "User input:\n",
    "{input}\n",
    "\"\"\"\n",
    "prompt = ChatPromptTemplate.from_template(template)\n",
    "\n",
    "chain = prompt | model\n",
    "\n",
    "res = chain.invoke({\"input\": input_text})\n",
    "result = res.content.strip()\n",
    "print_large(result)"
   ]
  },
  {
   "cell_type": "markdown",
   "metadata": {},
   "source": [
    "## 出力された地名に基づいて Nominatim API を呼び出して GPS 座標を取得"
   ]
  },
  {
   "cell_type": "code",
   "execution_count": 5,
   "metadata": {},
   "outputs": [],
   "source": [
    "import requests\n",
    "\n",
    "def get_nominatim_response(query: str):\n",
    "    # URLパラメータを設定\n",
    "    params = {\n",
    "        \"format\": \"jsonv2\",\n",
    "        \"polygon_geojson\": \"0\",\n",
    "        \"q\": query\n",
    "    }\n",
    "    # ヘッダー（特にUser-Agent）を設定\n",
    "    headers = {\n",
    "        \"User-Agent\": \"NLP2025/1.0\"\n",
    "    }\n",
    "    # APIリクエストを送信\n",
    "    nominatim_url = \"https://nominatim.openstreetmap.org/search\"\n",
    "    response = requests.get(nominatim_url, params=params, headers=headers)\n",
    "    if response.status_code == 200:\n",
    "        res_json = response.json()\n",
    "        return res_json\n",
    "    else:\n",
    "        print(f\"Error: {response.status_code}\")\n",
    "        print(response.text)"
   ]
  },
  {
   "cell_type": "code",
   "execution_count": 6,
   "metadata": {},
   "outputs": [
    {
     "name": "stdout",
     "output_type": "stream",
     "text": [
      "[\n",
      "  {\n",
      "    \"place_id\": 249452341,\n",
      "    \"licence\": \"Data © OpenStreetMap contributors, ODbL 1.0. http://osm.org/copyright\",\n",
      "    \"osm_type\": \"way\",\n",
      "    \"osm_id\": 999078939,\n",
      "    \"lat\": \"32.752506600000004\",\n",
      "    \"lon\": \"129.86764840717382\",\n",
      "    \"category\": \"amenity\",\n",
      "    \"type\": \"exhibition_centre\",\n",
      "    \"place_rank\": 30,\n",
      "    \"importance\": 6.96322575722441e-05,\n",
      "    \"addresstype\": \"amenity\",\n",
      "    \"name\": \"出島メッセ長崎\",\n",
      "    \"display_name\": \"出島メッセ長崎, 長崎式見港線, 尾上町, 長崎市, 長崎県, 850-8685, 日本\",\n",
      "    \"boundingbox\": [\n",
      "      \"32.7515478\",\n",
      "      \"32.7533039\",\n",
      "      \"129.8672832\",\n",
      "      \"129.8681479\"\n",
      "    ]\n",
      "  }\n",
      "]\n"
     ]
    },
    {
     "data": {
      "text/markdown": [
       "### Latitude: 32.752506600000004, Longitude: 129.86764840717382"
      ],
      "text/plain": [
       "<IPython.core.display.Markdown object>"
      ]
     },
     "metadata": {},
     "output_type": "display_data"
    }
   ],
   "source": [
    "import json\n",
    "nominatim_response = get_nominatim_response(result)\n",
    "print(json.dumps(nominatim_response, indent=2, ensure_ascii=False))\n",
    "\n",
    "lat = nominatim_response[0][\"lat\"]\n",
    "lon = nominatim_response[0][\"lon\"]\n",
    "bbox = nominatim_response[0][\"boundingbox\"]\n",
    "print_large(f\"Latitude: {lat}, Longitude: {lon}\")"
   ]
  },
  {
   "cell_type": "markdown",
   "metadata": {},
   "source": [
    "## Nominatim API で取得したデータを GeoJSON に変換する"
   ]
  },
  {
   "cell_type": "code",
   "execution_count": 7,
   "metadata": {},
   "outputs": [],
   "source": [
    "geojson_data = {\n",
    "    \"type\": \"Feature\",\n",
    "    \"geometry\": {\n",
    "        \"type\": \"Point\",\n",
    "        \"coordinates\": [float(lon), float(lat)]\n",
    "    },\n",
    "    \"properties\": {\n",
    "        \"title\": result\n",
    "    }\n",
    "}"
   ]
  },
  {
   "cell_type": "markdown",
   "metadata": {},
   "source": [
    "## GeoJSON を地図上に表示する"
   ]
  },
  {
   "cell_type": "code",
   "execution_count": 8,
   "metadata": {},
   "outputs": [
    {
     "data": {
      "text/html": [
       "<div style=\"width:100%;\"><div style=\"position:relative;width:100%;height:0;padding-bottom:60%;\"><span style=\"color:#565656\">Make this Notebook Trusted to load map: File -> Trust Notebook</span><iframe srcdoc=\"&lt;!DOCTYPE html&gt;\n",
       "&lt;html&gt;\n",
       "&lt;head&gt;\n",
       "    \n",
       "    &lt;meta http-equiv=&quot;content-type&quot; content=&quot;text/html; charset=UTF-8&quot; /&gt;\n",
       "    \n",
       "        &lt;script&gt;\n",
       "            L_NO_TOUCH = false;\n",
       "            L_DISABLE_3D = false;\n",
       "        &lt;/script&gt;\n",
       "    \n",
       "    &lt;style&gt;html, body {width: 100%;height: 100%;margin: 0;padding: 0;}&lt;/style&gt;\n",
       "    &lt;style&gt;#map {position:absolute;top:0;bottom:0;right:0;left:0;}&lt;/style&gt;\n",
       "    &lt;script src=&quot;https://cdn.jsdelivr.net/npm/leaflet@1.9.3/dist/leaflet.js&quot;&gt;&lt;/script&gt;\n",
       "    &lt;script src=&quot;https://code.jquery.com/jquery-3.7.1.min.js&quot;&gt;&lt;/script&gt;\n",
       "    &lt;script src=&quot;https://cdn.jsdelivr.net/npm/bootstrap@5.2.2/dist/js/bootstrap.bundle.min.js&quot;&gt;&lt;/script&gt;\n",
       "    &lt;script src=&quot;https://cdnjs.cloudflare.com/ajax/libs/Leaflet.awesome-markers/2.0.2/leaflet.awesome-markers.js&quot;&gt;&lt;/script&gt;\n",
       "    &lt;link rel=&quot;stylesheet&quot; href=&quot;https://cdn.jsdelivr.net/npm/leaflet@1.9.3/dist/leaflet.css&quot;/&gt;\n",
       "    &lt;link rel=&quot;stylesheet&quot; href=&quot;https://cdn.jsdelivr.net/npm/bootstrap@5.2.2/dist/css/bootstrap.min.css&quot;/&gt;\n",
       "    &lt;link rel=&quot;stylesheet&quot; href=&quot;https://netdna.bootstrapcdn.com/bootstrap/3.0.0/css/bootstrap-glyphicons.css&quot;/&gt;\n",
       "    &lt;link rel=&quot;stylesheet&quot; href=&quot;https://cdn.jsdelivr.net/npm/@fortawesome/fontawesome-free@6.2.0/css/all.min.css&quot;/&gt;\n",
       "    &lt;link rel=&quot;stylesheet&quot; href=&quot;https://cdnjs.cloudflare.com/ajax/libs/Leaflet.awesome-markers/2.0.2/leaflet.awesome-markers.css&quot;/&gt;\n",
       "    &lt;link rel=&quot;stylesheet&quot; href=&quot;https://cdn.jsdelivr.net/gh/python-visualization/folium/folium/templates/leaflet.awesome.rotate.min.css&quot;/&gt;\n",
       "    \n",
       "            &lt;meta name=&quot;viewport&quot; content=&quot;width=device-width,\n",
       "                initial-scale=1.0, maximum-scale=1.0, user-scalable=no&quot; /&gt;\n",
       "            &lt;style&gt;\n",
       "                #map_71dd536ff042ff91cde720e36128eb06 {\n",
       "                    position: relative;\n",
       "                    width: 100.0%;\n",
       "                    height: 100.0%;\n",
       "                    left: 0.0%;\n",
       "                    top: 0.0%;\n",
       "                }\n",
       "                .leaflet-container { font-size: 1rem; }\n",
       "            &lt;/style&gt;\n",
       "        \n",
       "&lt;/head&gt;\n",
       "&lt;body&gt;\n",
       "    \n",
       "    \n",
       "            &lt;div class=&quot;folium-map&quot; id=&quot;map_71dd536ff042ff91cde720e36128eb06&quot; &gt;&lt;/div&gt;\n",
       "        \n",
       "&lt;/body&gt;\n",
       "&lt;script&gt;\n",
       "    \n",
       "    \n",
       "            var map_71dd536ff042ff91cde720e36128eb06 = L.map(\n",
       "                &quot;map_71dd536ff042ff91cde720e36128eb06&quot;,\n",
       "                {\n",
       "                    center: [0.0, 0.0],\n",
       "                    crs: L.CRS.EPSG3857,\n",
       "                    zoom: 2,\n",
       "                    zoomControl: true,\n",
       "                    preferCanvas: false,\n",
       "                }\n",
       "            );\n",
       "\n",
       "            \n",
       "\n",
       "        \n",
       "    \n",
       "            var tile_layer_7c1300ca9d8fada236d3b45448776819 = L.tileLayer(\n",
       "                &quot;https://tile.openstreetmap.org/{z}/{x}/{y}.png&quot;,\n",
       "                {&quot;attribution&quot;: &quot;\\u0026copy; \\u003ca href=\\&quot;https://www.openstreetmap.org/copyright\\&quot;\\u003eOpenStreetMap\\u003c/a\\u003e contributors&quot;, &quot;detectRetina&quot;: false, &quot;maxNativeZoom&quot;: 19, &quot;maxZoom&quot;: 19, &quot;minZoom&quot;: 0, &quot;noWrap&quot;: false, &quot;opacity&quot;: 1, &quot;subdomains&quot;: &quot;abc&quot;, &quot;tms&quot;: false}\n",
       "            );\n",
       "        \n",
       "    \n",
       "            tile_layer_7c1300ca9d8fada236d3b45448776819.addTo(map_71dd536ff042ff91cde720e36128eb06);\n",
       "        \n",
       "    \n",
       "\n",
       "        function geo_json_926b15b8bb30b86af6fbc95b2152730a_onEachFeature(feature, layer) {\n",
       "            layer.on({\n",
       "            });\n",
       "        };\n",
       "        var geo_json_926b15b8bb30b86af6fbc95b2152730a = L.geoJson(null, {\n",
       "                onEachFeature: geo_json_926b15b8bb30b86af6fbc95b2152730a_onEachFeature,\n",
       "            \n",
       "        });\n",
       "\n",
       "        function geo_json_926b15b8bb30b86af6fbc95b2152730a_add (data) {\n",
       "            geo_json_926b15b8bb30b86af6fbc95b2152730a\n",
       "                .addData(data);\n",
       "        }\n",
       "            geo_json_926b15b8bb30b86af6fbc95b2152730a_add({&quot;geometry&quot;: {&quot;coordinates&quot;: [129.86764840717382, 32.752506600000004], &quot;type&quot;: &quot;Point&quot;}, &quot;properties&quot;: {&quot;title&quot;: &quot;\\u51fa\\u5cf6\\u30e1\\u30c3\\u30bb\\u9577\\u5d0e&quot;}, &quot;type&quot;: &quot;Feature&quot;});\n",
       "        geo_json_926b15b8bb30b86af6fbc95b2152730a.setStyle(function(feature) {return feature.properties.style;});\n",
       "\n",
       "        \n",
       "    \n",
       "            geo_json_926b15b8bb30b86af6fbc95b2152730a.addTo(map_71dd536ff042ff91cde720e36128eb06);\n",
       "        \n",
       "    \n",
       "            map_71dd536ff042ff91cde720e36128eb06.fitBounds(\n",
       "                [[32.7515478, 129.8672832], [32.7533039, 129.8681479]],\n",
       "                {}\n",
       "            );\n",
       "        \n",
       "&lt;/script&gt;\n",
       "&lt;/html&gt;\" style=\"position:absolute;width:100%;height:100%;left:0;top:0;border:none !important;\" allowfullscreen webkitallowfullscreen mozallowfullscreen></iframe></div></div>"
      ],
      "text/plain": [
       "<folium.folium.Map at 0x7fc7902a9ea0>"
      ]
     },
     "metadata": {},
     "output_type": "display_data"
    }
   ],
   "source": [
    "import folium\n",
    "\n",
    "# default map\n",
    "m = folium.Map(location=[0, 0], zoom_start=2)\n",
    "\n",
    "# Add the GeoJSON data to the map\n",
    "folium.GeoJson(geojson_data).add_to(m)\n",
    "\n",
    "# bbox で fit_bounds\n",
    "if bbox:\n",
    "    south, north, west, east = map(float, bbox)\n",
    "    m.fit_bounds([[south, west], [north, east]])\n",
    "\n",
    "# 地図を表示\n",
    "display(m)"
   ]
  },
  {
   "cell_type": "markdown",
   "metadata": {},
   "source": [
    "## まとめ\n",
    "\n",
    "- 生成 AI は、自然言語から地名のみを出力することができる\n",
    "- 出力された地名に基づいて Nominatim API を呼び出して GPS 座標を取得することができる\n",
    "- 取得した GPS 座標を地図上にプロットすることができる"
   ]
  }
 ],
 "metadata": {
  "kernelspec": {
   "display_name": "nlp2025",
   "language": "python",
   "name": "python3"
  },
  "language_info": {
   "codemirror_mode": {
    "name": "ipython",
    "version": 3
   },
   "file_extension": ".py",
   "mimetype": "text/x-python",
   "name": "python",
   "nbconvert_exporter": "python",
   "pygments_lexer": "ipython3",
   "version": "3.10.15"
  }
 },
 "nbformat": 4,
 "nbformat_minor": 2
}
