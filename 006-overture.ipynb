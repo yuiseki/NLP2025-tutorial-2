{
 "cells": [
  {
   "cell_type": "code",
   "execution_count": 1,
   "metadata": {},
   "outputs": [
    {
     "data": {
      "text/plain": [
       "True"
      ]
     },
     "execution_count": 1,
     "metadata": {},
     "output_type": "execute_result"
    }
   ],
   "source": [
    "from dotenv import load_dotenv\n",
    "load_dotenv()"
   ]
  },
  {
   "cell_type": "code",
   "execution_count": 2,
   "metadata": {},
   "outputs": [],
   "source": [
    "from IPython.display import Markdown, display\n",
    "def print_large(text):\n",
    "    display(Markdown(f\"### {text}\"))"
   ]
  },
  {
   "cell_type": "code",
   "execution_count": null,
   "metadata": {},
   "outputs": [],
   "source": [
    "import duckdb\n",
    "\n",
    "conn = duckdb.connect()\n",
    "conn.execute(\"INSTALL httpfs;\")\n",
    "conn.execute(\"INSTALL json;\")\n",
    "conn.execute(\"INSTALL spatial;\")\n",
    "conn.execute(\"LOAD httpfs;\")\n",
    "conn.execute(\"LOAD json;\")\n",
    "conn.execute(\"LOAD spatial;\")\n",
    "conn.execute(\"SET s3_region='us-west-2';\")\n",
    "\n",
    "# 国境データの読み込み\n",
    "conn.execute(\"\"\"\n",
    "CREATE TABLE division_areas AS\n",
    "SELECT *\n",
    "FROM read_parquet('s3://overturemaps-us-west-2/release/2024-11-13.0/theme=divisions/type=division_area/*', hive_partitioning=1)\n",
    "WHERE subtype = 'country' AND class = 'land';\n",
    "\"\"\")\n",
    "\n",
    "# 国境データの表示\n",
    "result = conn.execute(\"SELECT * FROM division_areas LIMIT 5;\").fetchall()\n",
    "result"
   ]
  }
 ],
 "metadata": {
  "kernelspec": {
   "display_name": "nlp2025",
   "language": "python",
   "name": "python3"
  },
  "language_info": {
   "codemirror_mode": {
    "name": "ipython",
    "version": 3
   },
   "file_extension": ".py",
   "mimetype": "text/x-python",
   "name": "python",
   "nbconvert_exporter": "python",
   "pygments_lexer": "ipython3",
   "version": "3.10.15"
  }
 },
 "nbformat": 4,
 "nbformat_minor": 2
}
