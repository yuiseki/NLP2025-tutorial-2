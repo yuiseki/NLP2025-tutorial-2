{
 "cells": [
  {
   "cell_type": "code",
   "execution_count": 72,
   "metadata": {},
   "outputs": [],
   "source": [
    "import mapwidget.maplibre as mapwidget\n",
    "\n",
    "m = mapwidget.Map(center=[0, 0], zoom=2, height='400px')"
   ]
  },
  {
   "cell_type": "code",
   "execution_count": 74,
   "metadata": {},
   "outputs": [
    {
     "data": {
      "application/vnd.jupyter.widget-view+json": {
       "model_id": "ba00a360ddd14cc6af1481bdcdf9f7a7",
       "version_major": 2,
       "version_minor": 1
      },
      "text/plain": [
       "Map(bounds=[0, 0, 0, 0], center=[0, 0], clicked_latlng=[None, None], height='400px')"
      ]
     },
     "execution_count": 74,
     "metadata": {},
     "output_type": "execute_result"
    }
   ],
   "source": [
    "esm = \"\"\"\n",
    "const customStyle = {\n",
    "  'version': 8,\n",
    "  'sources': {\n",
    "    'openmaptiles': {\n",
    "      'type': 'vector',\n",
    "      'url': 'https://tile.openstreetmap.jp/data/planet.json'\n",
    "    },\n",
    "  },\n",
    "  'sprite': 'https://tile.openstreetmap.jp/styles/osm-bright/sprite',\n",
    "  'glyphs': 'https://tile.openstreetmap.jp/fonts/{fontstack}/{range}.pbf',\n",
    "  'layers': [\n",
    "    {\n",
    "      'id': 'background',\n",
    "      'type': 'background',\n",
    "      'paint': {\n",
    "        'background-color': '#45516E'\n",
    "      }\n",
    "    },\n",
    "    {\n",
    "      'id': 'water',\n",
    "      'type': 'fill',\n",
    "      'source': 'openmaptiles',\n",
    "      'source-layer': 'water',\n",
    "      'filter': ['all', ['!=', 'intermittent', 1]],\n",
    "      'layout': {\n",
    "        \"visibility\": \"visible\"\n",
    "      },\n",
    "      'paint': {\n",
    "        'fill-color': '#38435C'\n",
    "      }\n",
    "    },\n",
    "  ]\n",
    "};\n",
    "\n",
    "const map = new maplibregl.Map({\n",
    "  container: 'map',\n",
    "  zoom: 2,\n",
    "  center: [0, 0],\n",
    "  style: customStyle\n",
    "});\n",
    "\"\"\"\n",
    "m.set_esm(esm)\n",
    "m"
   ]
  }
 ],
 "metadata": {
  "kernelspec": {
   "display_name": "nlp2025",
   "language": "python",
   "name": "python3"
  },
  "language_info": {
   "codemirror_mode": {
    "name": "ipython",
    "version": 3
   },
   "file_extension": ".py",
   "mimetype": "text/x-python",
   "name": "python",
   "nbconvert_exporter": "python",
   "pygments_lexer": "ipython3",
   "version": "3.10.15"
  }
 },
 "nbformat": 4,
 "nbformat_minor": 2
}
