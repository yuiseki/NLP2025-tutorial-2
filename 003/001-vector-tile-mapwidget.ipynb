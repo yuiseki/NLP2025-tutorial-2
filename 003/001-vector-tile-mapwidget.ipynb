{
 "cells": [
  {
   "cell_type": "code",
   "execution_count": 1,
   "metadata": {},
   "outputs": [],
   "source": [
    "import mapwidget.maplibre as mapwidget\n",
    "\n",
    "m = mapwidget.Map(center=[0, 0], zoom=2, height='400px')"
   ]
  },
  {
   "cell_type": "code",
   "execution_count": 2,
   "metadata": {},
   "outputs": [
    {
     "data": {
      "application/vnd.jupyter.widget-view+json": {
       "model_id": "8695409b76ce466cafb4ec8ce74a6afb",
       "version_major": 2,
       "version_minor": 1
      },
      "text/plain": [
       "Map(bounds=[0, 0, 0, 0], center=[0, 0], clicked_latlng=[None, None], height='400px')"
      ]
     },
     "execution_count": 2,
     "metadata": {},
     "output_type": "execute_result"
    }
   ],
   "source": [
    "esm = \"\"\"\n",
    "const customStyle = {\n",
    "    'version': 8,\n",
    "    'sources': {\n",
    "        'openmaptiles': {\n",
    "            'type': 'vector',\n",
    "            'url': 'https://tile.openstreetmap.jp/data/planet.json'\n",
    "        },\n",
    "    },\n",
    "    'sprite': 'https://tile.openstreetmap.jp/styles/osm-bright/sprite',\n",
    "    'glyphs': 'https://tile.openstreetmap.jp/fonts/{fontstack}/{range}.pbf',\n",
    "    'layers': [\n",
    "        {\n",
    "            'id': 'background',\n",
    "            'type': 'background',\n",
    "            'paint': {\n",
    "                'background-color': '#45516E'\n",
    "            }\n",
    "        },\n",
    "        {\n",
    "            'id': 'water',\n",
    "            'type': 'fill',\n",
    "            'source': 'openmaptiles',\n",
    "            'source-layer': 'water',\n",
    "            'filter': ['all', ['!=', 'intermittent', 1]],\n",
    "            'layout': {\n",
    "                \"visibility\": \"visible\"\n",
    "            },\n",
    "            'paint': {\n",
    "                'fill-color': '#38435C'\n",
    "            }\n",
    "        },\n",
    "        {\n",
    "            'id': 'boundary-land-level-2',\n",
    "            'type': 'line',\n",
    "            'source': 'openmaptiles',\n",
    "            'source-layer': 'boundary',\n",
    "            'filter': ['all', ['==', 'admin_level', 2], ['!=', 'martime', 1], ['!=', 'disputed', 1]],\n",
    "            'layout': {\n",
    "                'line-cap': 'round',\n",
    "                'line-join': 'round',\n",
    "                \"visibility\": \"visible\"\n",
    "            },\n",
    "            'paint': {\n",
    "                'line-color': '#7ea2cc',\n",
    "                'line-width': {\n",
    "                    'base': 1,\n",
    "                    'stops': [\n",
    "                        [0, 0.6],\n",
    "                        [4, 1.4],\n",
    "                        [5, 2],\n",
    "                        [12, 8]\n",
    "                    ]\n",
    "                }\n",
    "            }\n",
    "        },\n",
    "        {\n",
    "            'id': 'place-country-2',\n",
    "            'type': 'symbol',\n",
    "            'source': 'openmaptiles',\n",
    "            'source-layer': 'place',\n",
    "            'filter': ['all', ['==', 'class', 'country']],\n",
    "            'layout': {\n",
    "                'text-field': '{name:latin}',\n",
    "                'text-font': ['Open Sans Regular'],\n",
    "                'text-max-width': 6.25,\n",
    "                'text-size': {\n",
    "                    'base': 1,\n",
    "                    'stops': [\n",
    "                        [1, 11],\n",
    "                        [4, 17]\n",
    "                    ]\n",
    "                },\n",
    "            },\n",
    "            'paint': {\n",
    "                'text-color': '#7d8791',\n",
    "                'text-halo-blur': 1,\n",
    "                'text-halo-color': 'hsla(228, 60%, 21%, 0.7)',\n",
    "                'text-halo-width': 1.4\n",
    "            }\n",
    "        }\n",
    "    ]\n",
    "};\n",
    "\n",
    "const map = new maplibregl.Map({\n",
    "    container: 'map',\n",
    "    zoom: 2,\n",
    "    center: [0, 0],\n",
    "    style: customStyle\n",
    "});\n",
    "\"\"\"\n",
    "m.set_esm(esm)\n",
    "m"
   ]
  }
 ],
 "metadata": {
  "kernelspec": {
   "display_name": "nlp2025-t2",
   "language": "python",
   "name": "python3"
  },
  "language_info": {
   "codemirror_mode": {
    "name": "ipython",
    "version": 3
   },
   "file_extension": ".py",
   "mimetype": "text/x-python",
   "name": "python",
   "nbconvert_exporter": "python",
   "pygments_lexer": "ipython3",
   "version": "3.11.11"
  }
 },
 "nbformat": 4,
 "nbformat_minor": 2
}
