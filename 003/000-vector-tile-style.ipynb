{
 "cells": [
  {
   "cell_type": "code",
   "execution_count": 1,
   "metadata": {},
   "outputs": [],
   "source": [
    "import mapwidget.maplibre as mapwidget\n",
    "\n",
    "m = mapwidget.Map(center=[0, 0], zoom=2, height='400px')"
   ]
  },
  {
   "cell_type": "code",
   "execution_count": 2,
   "metadata": {},
   "outputs": [],
   "source": [
    "customStyle = \"\"\"{\n",
    "    'version': 8,\n",
    "    'sources': {\n",
    "        'openmaptiles': {\n",
    "            'type': 'vector',\n",
    "            'url': 'https://tile.openstreetmap.jp/data/planet.json'\n",
    "        },\n",
    "    },\n",
    "    'sprite': 'https://tile.openstreetmap.jp/styles/osm-bright/sprite',\n",
    "    'glyphs': 'https://tile.openstreetmap.jp/fonts/{fontstack}/{range}.pbf',\n",
    "    'layers': [\n",
    "        {\n",
    "            'id': 'background',\n",
    "            'type': 'background',\n",
    "            'paint': {\n",
    "                'background-color': '#45516E'\n",
    "            }\n",
    "        },\n",
    "        {\n",
    "            'id': 'water',\n",
    "            'type': 'fill',\n",
    "            'source': 'openmaptiles',\n",
    "            'source-layer': 'water',\n",
    "            'filter': ['all', ['!=', 'intermittent', 1]],\n",
    "            'layout': {\n",
    "                \"visibility\": \"visible\"\n",
    "            },\n",
    "            'paint': {\n",
    "                'fill-color': '#38435C'\n",
    "            }\n",
    "        },\n",
    "        {\n",
    "            'id': 'boundary-land-level-2',\n",
    "            'type': 'line',\n",
    "            'source': 'openmaptiles',\n",
    "            'source-layer': 'boundary',\n",
    "            'filter': ['all', ['==', 'admin_level', 2], ['!=', 'martime', 1], ['!=', 'disputed', 1]],\n",
    "            'layout': {\n",
    "                'line-cap': 'round',\n",
    "                'line-join': 'round',\n",
    "                \"visibility\": \"visible\"\n",
    "            },\n",
    "            'paint': {\n",
    "                'line-color': '#7ea2cc',\n",
    "                'line-width': {\n",
    "                    'base': 1,\n",
    "                    'stops': [\n",
    "                        [0, 0.6],\n",
    "                        [4, 1.4],\n",
    "                        [5, 2],\n",
    "                        [12, 8]\n",
    "                    ]\n",
    "                }\n",
    "            }\n",
    "        },\n",
    "        {\n",
    "            'id': 'place-country-2',\n",
    "            'type': 'symbol',\n",
    "            'source': 'openmaptiles',\n",
    "            'source-layer': 'place',\n",
    "            'filter': ['all', ['==', 'class', 'country']],\n",
    "            'layout': {\n",
    "                'text-field': '{name:latin}',\n",
    "                'text-font': ['Open Sans Regular'],\n",
    "                'text-max-width': 6.25,\n",
    "                'text-size': {\n",
    "                    'base': 1,\n",
    "                    'stops': [\n",
    "                        [1, 11],\n",
    "                        [4, 17]\n",
    "                    ]\n",
    "                },\n",
    "            },\n",
    "            'paint': {\n",
    "                'text-color': '#7d8791',\n",
    "                'text-halo-blur': 1,\n",
    "                'text-halo-color': 'hsla(228, 60%, 21%, 0.7)',\n",
    "                'text-halo-width': 1.4\n",
    "            }\n",
    "        }\n",
    "    ]\n",
    "}\"\"\""
   ]
  },
  {
   "cell_type": "code",
   "execution_count": 3,
   "metadata": {},
   "outputs": [],
   "source": [
    "esm = f\"\"\"\n",
    "const map = new maplibregl.Map({{\n",
    "    container: 'map',\n",
    "    zoom: 2,\n",
    "    center: [0, 0],\n",
    "    style: {customStyle}\n",
    "}});\n",
    "\"\"\""
   ]
  },
  {
   "cell_type": "code",
   "execution_count": 4,
   "metadata": {},
   "outputs": [
    {
     "data": {
      "application/vnd.jupyter.widget-view+json": {
       "model_id": "ebab3f52966046e7a3d83d59bb8c5049",
       "version_major": 2,
       "version_minor": 1
      },
      "text/plain": [
       "Map(bounds=[0, 0, 0, 0], center=[0, 0], clicked_latlng=[None, None], height='400px')"
      ]
     },
     "execution_count": 4,
     "metadata": {},
     "output_type": "execute_result"
    }
   ],
   "source": [
    "m.set_esm(esm)\n",
    "m"
   ]
  },
  {
   "cell_type": "markdown",
   "metadata": {},
   "source": [
    "#### 対象となる自然言語"
   ]
  },
  {
   "cell_type": "code",
   "execution_count": 5,
   "metadata": {},
   "outputs": [
    {
     "name": "stdout",
     "output_type": "stream",
     "text": [
      "国の名前を赤色にしてください\n"
     ]
    }
   ],
   "source": [
    "input_text = \"国の名前を赤色にしてください\"\n",
    "print(input_text)"
   ]
  },
  {
   "cell_type": "code",
   "execution_count": 6,
   "metadata": {},
   "outputs": [
    {
     "name": "stdout",
     "output_type": "stream",
     "text": [
      "{\n",
      "    'version': 8,\n",
      "    'sources': {\n",
      "        'openmaptiles': {\n",
      "            'type': 'vector',\n",
      "            'url': 'https://tile.openstreetmap.jp/data/planet.json'\n",
      "        },\n",
      "    },\n",
      "    'sprite': 'https://tile.openstreetmap.jp/styles/osm-bright/sprite',\n",
      "    'glyphs': 'https://tile.openstreetmap.jp/fonts/{fontstack}/{range}.pbf',\n",
      "    'layers': [\n",
      "        {\n",
      "            'id': 'background',\n",
      "            'type': 'background',\n",
      "            'paint': {\n",
      "                'background-color': '#45516E'\n",
      "            }\n",
      "        },\n",
      "        {\n",
      "            'id': 'water',\n",
      "            'type': 'fill',\n",
      "            'source': 'openmaptiles',\n",
      "            'source-layer': 'water',\n",
      "            'filter': ['all', ['!=', 'intermittent', 1]],\n",
      "            'layout': {\n",
      "                \"visibility\": \"visible\"\n",
      "            },\n",
      "            'paint': {\n",
      "                'fill-color': '#38435C'\n",
      "            }\n",
      "        },\n",
      "        {\n",
      "            'id': 'boundary-land-level-2',\n",
      "            'type': 'line',\n",
      "            'source': 'openmaptiles',\n",
      "            'source-layer': 'boundary',\n",
      "            'filter': ['all', ['==', 'admin_level', 2], ['!=', 'martime', 1], ['!=', 'disputed', 1]],\n",
      "            'layout': {\n",
      "                'line-cap': 'round',\n",
      "                'line-join': 'round',\n",
      "                \"visibility\": \"visible\"\n",
      "            },\n",
      "            'paint': {\n",
      "                'line-color': '#7ea2cc',\n",
      "                'line-width': {\n",
      "                    'base': 1,\n",
      "                    'stops': [\n",
      "                        [0, 0.6],\n",
      "                        [4, 1.4],\n",
      "                        [5, 2],\n",
      "                        [12, 8]\n",
      "                    ]\n",
      "                }\n",
      "            }\n",
      "        },\n",
      "        {\n",
      "            'id': 'place-country-2',\n",
      "            'type': 'symbol',\n",
      "            'source': 'openmaptiles',\n",
      "            'source-layer': 'place',\n",
      "            'filter': ['all', ['==', 'class', 'country']],\n",
      "            'layout': {\n",
      "                'text-field': '{name:latin}',\n",
      "                'text-font': ['Open Sans Regular'],\n",
      "                'text-max-width': 6.25,\n",
      "                'text-size': {\n",
      "                    'base': 1,\n",
      "                    'stops': [\n",
      "                        [1, 11],\n",
      "                        [4, 17]\n",
      "                    ]\n",
      "                },\n",
      "            },\n",
      "            'paint': {\n",
      "                'text-color': '#ff0000',\n",
      "                'text-halo-blur': 1,\n",
      "                'text-halo-color': 'hsla(228, 60%, 21%, 0.7)',\n",
      "                'text-halo-width': 1.4\n",
      "            }\n",
      "        }\n",
      "    ]\n",
      "}\n"
     ]
    }
   ],
   "source": [
    "from langchain_core.prompts import ChatPromptTemplate\n",
    "from langchain_google_genai import ChatGoogleGenerativeAI\n",
    "\n",
    "# モデルの準備\n",
    "model = ChatGoogleGenerativeAI(model=\"gemini-exp-1206\", temperature=0)\n",
    "\n",
    "# プロンプトの準備\n",
    "template = \"\"\"You are an expert of OpenStreetMap and Maplibre GL JS.\n",
    "You output the best javascript code of map style definition for the given user input.\n",
    "\n",
    "You will always reply according to the following rules:\n",
    "- Output valid javascript code.\n",
    "- The code MUST be line delimited and surrounded by just three backquote to indicate that it is a code block.\n",
    "- The code MUST be takes into account the user's intent to the greatest extent possible.\n",
    "\n",
    "** Current style definition: **\n",
    "{current_style}\n",
    "\n",
    "User Input:\n",
    "{input}\n",
    "\"\"\"\n",
    "prompt = ChatPromptTemplate.from_template(template)\n",
    "\n",
    "chain = prompt | model\n",
    "\n",
    "res = chain.invoke({\"input\": input_text, \"current_style\": customStyle})\n",
    "result = res.content.strip()\n",
    "\n",
    "import re\n",
    "match = re.search(r\"```[^\\n]*\\n(.*?)```\", result, re.DOTALL)\n",
    "code = match.group(1).strip()\n",
    "print(code)\n",
    "customStyle = code"
   ]
  },
  {
   "cell_type": "code",
   "execution_count": 7,
   "metadata": {},
   "outputs": [],
   "source": [
    "esm = f\"\"\"\n",
    "const map = new maplibregl.Map({{\n",
    "    container: 'map',\n",
    "    zoom: 2,\n",
    "    center: [0, 0],\n",
    "    style: {customStyle}\n",
    "}});\n",
    "\"\"\""
   ]
  },
  {
   "cell_type": "code",
   "execution_count": 8,
   "metadata": {},
   "outputs": [
    {
     "data": {
      "application/vnd.jupyter.widget-view+json": {
       "model_id": "ebab3f52966046e7a3d83d59bb8c5049",
       "version_major": 2,
       "version_minor": 1
      },
      "text/plain": [
       "Map(bounds=[0, 0, 0, 0], center=[0, 0], clicked_latlng=[None, None], height='400px')"
      ]
     },
     "execution_count": 8,
     "metadata": {},
     "output_type": "execute_result"
    }
   ],
   "source": [
    "m.set_esm(esm)\n",
    "m"
   ]
  }
 ],
 "metadata": {
  "kernelspec": {
   "display_name": "nlp2025-t2",
   "language": "python",
   "name": "python3"
  },
  "language_info": {
   "codemirror_mode": {
    "name": "ipython",
    "version": 3
   },
   "file_extension": ".py",
   "mimetype": "text/x-python",
   "name": "python",
   "nbconvert_exporter": "python",
   "pygments_lexer": "ipython3",
   "version": "3.11.11"
  }
 },
 "nbformat": 4,
 "nbformat_minor": 2
}
