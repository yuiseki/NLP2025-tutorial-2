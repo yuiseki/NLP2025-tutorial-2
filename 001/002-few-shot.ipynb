{
 "cells": [
  {
   "cell_type": "markdown",
   "metadata": {},
   "source": [
    "## Example Selector と Few-Shot Prompt"
   ]
  },
  {
   "cell_type": "code",
   "execution_count": 1,
   "metadata": {},
   "outputs": [],
   "source": [
    "examples = [\n",
    "    {\n",
    "        \"input\": \"長崎県長崎市のカフェを地図に表示してください。\",\n",
    "        \"output\": \"\"\"[out:json][timeout:30000];\n",
    "area[\"name\"=\"長崎市\"]->.searchArea;\n",
    "(\n",
    "  nwr[\"amenity\"=\"cafe\"](area.searchArea);\n",
    ");\n",
    "out geom;\"\"\"\n",
    "    },\n",
    "    {\n",
    "        \"input\": \"東京都台東区のラーメン屋を地図に表示してください。\",\n",
    "        \"output\": \"\"\"[out:json][timeout:30000];\n",
    "area[\"name\"=\"台東区\"]->.searchArea;\n",
    "(\n",
    "  nwr[\"amenity\"=\"restaurant\"][\"cuisine\"=\"ramen\"](area.searchArea);\n",
    ");\n",
    "out geom;\"\"\"\n",
    "    },\n",
    "    {\n",
    "        \"input\": \"東京都渋谷区の駅を地図に表示してください。\",\n",
    "        \"output\": \"\"\"[out:json][timeout:30000];\n",
    "area[\"name\"=\"渋谷区\"]->.searchArea;\n",
    "(\n",
    "  nwr[\"railway\"=\"station\"](area.searchArea);\n",
    ");\n",
    "out geom;\"\"\"\n",
    "    },\n",
    "    {\n",
    "        \"input\": \"東京都新宿区の病院を地図に表示してください。\",\n",
    "        \"output\": \"\"\"[out:json][timeout:30000];\n",
    "area[\"name\"=\"新宿区\"]->.searchArea;\n",
    "(\n",
    "  nwr[\"amenity\"=\"hospital\"](area.searchArea);\n",
    ");\n",
    "out geom;\"\"\"\n",
    "    },\n",
    "    {\n",
    "        \"input\": \"大阪府大阪市のコンビニを地図に表示してください。\",\n",
    "        \"output\": \"\"\"[out:json][timeout:30000];\n",
    "area[\"name\"=\"大阪市\"]->.searchArea;\n",
    "(\n",
    "  nwr[\"amenity\"=\"convenience\"](area.searchArea);\n",
    ");\n",
    "out geom;\"\"\"\n",
    "    },\n",
    "]"
   ]
  },
  {
   "cell_type": "code",
   "execution_count": 2,
   "metadata": {},
   "outputs": [],
   "source": [
    "from langchain_core.prompts import PromptTemplate\n",
    "\n",
    "example_prompt = PromptTemplate(\n",
    "    input_variables=[\"input\", \"output\"],\n",
    "    template=\"\"\"Input:\n",
    "{input}\n",
    "\n",
    "Output:\n",
    "{output}\"\"\",\n",
    ")"
   ]
  },
  {
   "cell_type": "code",
   "execution_count": 3,
   "metadata": {},
   "outputs": [],
   "source": [
    "from langchain_google_genai import GoogleGenerativeAIEmbeddings\n",
    "\n",
    "embeddings = GoogleGenerativeAIEmbeddings(model=\"models/text-embedding-004\")"
   ]
  },
  {
   "cell_type": "code",
   "execution_count": 4,
   "metadata": {},
   "outputs": [],
   "source": [
    "from langchain_core.example_selectors import SemanticSimilarityExampleSelector\n",
    "from langchain_chroma import Chroma\n",
    "\n",
    "example_selector = SemanticSimilarityExampleSelector.from_examples(\n",
    "    examples,\n",
    "    embeddings,\n",
    "    Chroma,\n",
    "    k=3,\n",
    ")"
   ]
  },
  {
   "cell_type": "code",
   "execution_count": 5,
   "metadata": {},
   "outputs": [],
   "source": [
    "from langchain_core.prompts import FewShotPromptTemplate\n",
    "\n",
    "similar_prompt = FewShotPromptTemplate(\n",
    "    example_selector=example_selector,\n",
    "    example_prompt=example_prompt,\n",
    "    prefix=\"\"\"You are an expert in OpenStreetMap and Overpass QL.\n",
    "Output the appropriate Overpass QL from the user input.\n",
    "\n",
    "You will always reply according to the following rules:\n",
    "- Output valid Overpass QL.\n",
    "- The query MUST be out json.\n",
    "- The query MUST be out geom.\n",
    "- The query MUST be set timeout as 30000.\n",
    "- The query will utilize a area specifier as needed.\n",
    "- The query will search nwr as needed.\n",
    "- The query MUST be line delimited and surrounded by just three backquote to indicate that it is a code block.\n",
    "\n",
    "** Examples: **\n",
    "\"\"\",\n",
    "    suffix=\"\"\"User input:\n",
    "{input}\n",
    "\n",
    "Output:\"\"\",\n",
    "    input_variables=[\"input\"],\n",
    ")"
   ]
  },
  {
   "cell_type": "code",
   "execution_count": 6,
   "metadata": {},
   "outputs": [],
   "source": [
    "from langchain_google_genai import ChatGoogleGenerativeAI\n",
    "\n",
    "# モデルの準備\n",
    "model = ChatGoogleGenerativeAI(model=\"gemini-exp-1206\", temperature=0)"
   ]
  },
  {
   "cell_type": "code",
   "execution_count": 7,
   "metadata": {},
   "outputs": [],
   "source": [
    "input_text = \"東京都台東区のカフェを地図に表示してください。\""
   ]
  },
  {
   "cell_type": "code",
   "execution_count": 8,
   "metadata": {},
   "outputs": [
    {
     "name": "stdout",
     "output_type": "stream",
     "text": [
      "```\n",
      "[out:json][timeout:30000];\n",
      "area[\"name\"=\"台東区\"]->.searchArea;\n",
      "(\n",
      "  nwr[\"amenity\"=\"cafe\"](area.searchArea);\n",
      ");\n",
      "out geom;\n",
      "```\n"
     ]
    }
   ],
   "source": [
    "chain = similar_prompt | model\n",
    "\n",
    "res = chain.invoke({\"input\": input_text})\n",
    "result = res.content.strip()\n",
    "print(result)"
   ]
  }
 ],
 "metadata": {
  "kernelspec": {
   "display_name": "nlp2025-t2",
   "language": "python",
   "name": "python3"
  },
  "language_info": {
   "codemirror_mode": {
    "name": "ipython",
    "version": 3
   },
   "file_extension": ".py",
   "mimetype": "text/x-python",
   "name": "python",
   "nbconvert_exporter": "python",
   "pygments_lexer": "ipython3",
   "version": "3.11.11"
  }
 },
 "nbformat": 4,
 "nbformat_minor": 2
}
